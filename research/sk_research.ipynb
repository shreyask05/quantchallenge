{
 "cells": [
  {
   "cell_type": "markdown",
   "id": "9b572f3e",
   "metadata": {},
   "source": [
    "# Getting Started: Market Research\n",
    "This Jupyter notebook is a quick demonstration on how to get started on the market research section."
   ]
  },
  {
   "cell_type": "markdown",
   "id": "0d9a964a",
   "metadata": {},
   "source": [
    "## 1) Holistic Regression (all features)\n"
   ]
  },
  {
   "cell_type": "code",
   "execution_count": null,
   "id": "7bdf4114",
   "metadata": {},
   "outputs": [
    {
     "name": "stdout",
     "output_type": "stream",
     "text": [
      "MSE:  0.2610423252491223\n",
      "R-Squared:  0.7094833926126334\n",
      "Coefficients:  [[ 0.00664259 -0.01308609  0.0822096   0.00569229  0.07101493  0.0005716\n",
      "   0.41602123  0.13716385 -0.00059139  0.13001162 -0.01014076 -0.00247624\n",
      "   0.08376823  0.03463404]\n",
      " [ 0.22750768  0.13022678  0.003089    0.17574207 -0.00098952  0.1216997\n",
      "   0.01769992 -0.00551329  0.03399319 -0.01844861  0.18472468  0.09821982\n",
      "  -0.02112275 -0.00258247]]\n",
      "Intercept:  [-0.00179489 -0.09241293]\n"
     ]
    }
   ],
   "source": [
    "import pandas as pd\n",
    "import csv\n",
    "import numpy as np\n",
    "from sklearn.model_selection import train_test_split\n",
    "from sklearn.linear_model import LinearRegression\n",
    "from sklearn.metrics import mean_squared_error, r2_score\n",
    "\n",
    "train_data = pd.read_csv('./data/train.csv')\n",
    "test_data = pd.read_csv('./data/test.csv')\n",
    "\n",
    "#independent and dependent variables\n",
    "x = train_data[['A','B','C','D','E','F','G','H','I','J','K','L','M','N']]\n",
    "y = train_data[['Y1','Y2']]\n",
    "\n",
    "\n",
    "#splitting data into train and test\n",
    "x_train, x_test, y_train, y_test = train_test_split(x,y,test_size=0.2, random_state=42)\n",
    "\n",
    "#running regression\n",
    "model = LinearRegression()\n",
    "model.fit(x_train, y_train)\n",
    "y_pred = model.predict(x_test)\n",
    "\n",
    "#checking model performance\n",
    "print(\"MSE: \",mean_squared_error(y_test, y_pred))\n",
    "print(\"R-Squared: \", r2_score(y_test, y_pred))\n",
    "print(\"Coefficients: \", model.coef_)\n",
    "print(\"Intercept: \", model.intercept_)\n",
    "\n"
   ]
  },
  {
   "cell_type": "markdown",
   "id": "afc9a46a",
   "metadata": {},
   "source": [
    "## 2) Y1 Regression (correlated features only)"
   ]
  },
  {
   "cell_type": "code",
   "execution_count": 11,
   "id": "61b619a2",
   "metadata": {},
   "outputs": [
    {
     "name": "stdout",
     "output_type": "stream",
     "text": [
      "MSE:  0.20263267251498907\n",
      "R-Squared:  0.7775582458195478\n",
      "Coefficients:  [0.41561241 0.12952665 0.13842676 0.08192792 0.08426852 0.07231967\n",
      " 0.03516167]\n",
      "Intercept:  -0.001130917732918514\n"
     ]
    }
   ],
   "source": [
    "#y1 only training data\n",
    "y1_x = train_data[['G','J','H','C','M','E','N']]\n",
    "y1_y = train_data['Y1']\n",
    "\n",
    "\n",
    "#splitting data into train and test\n",
    "x_train, x_test, y_train, y_test = train_test_split(y1_x,y1_y,test_size=0.2, random_state=42)\n",
    "\n",
    "#running regression\n",
    "model = LinearRegression()\n",
    "model.fit(x_train, y_train)\n",
    "y_pred = model.predict(x_test)\n",
    "\n",
    "#checking model performance\n",
    "print(\"MSE: \",mean_squared_error(y_test, y_pred))\n",
    "print(\"R-Squared: \", r2_score(y_test, y_pred))\n",
    "print(\"Coefficients: \", model.coef_)\n",
    "print(\"Intercept: \", model.intercept_)"
   ]
  },
  {
   "cell_type": "code",
   "execution_count": 4,
   "id": "430010d5",
   "metadata": {},
   "outputs": [
    {
     "name": "stdout",
     "output_type": "stream",
     "text": [
      "Correlation between C and Y1: 0.7038\n"
     ]
    }
   ],
   "source": [
    "# Calculate correlation between C and Y1\n",
    "correlation = train_data['C'].corr(train_data['Y1'])\n",
    "print(f\"Correlation between C and Y1: {correlation:.4f}\")"
   ]
  },
  {
   "cell_type": "markdown",
   "id": "4cb1edef",
   "metadata": {},
   "source": [
    "Clearly there's a strong relationship between C and Y1. You should definitely use C to predict Y1!"
   ]
  },
  {
   "cell_type": "markdown",
   "id": "430ba64a",
   "metadata": {},
   "source": [
    "## 3) Submit Predictions\n",
    "In order to submit predictions, we need to make a CSV file with three columns: id, Y1, and Y2. In the below example, we let our predictions of Y1 and Y2 be the means of Y1 and Y2 in the train set."
   ]
  },
  {
   "cell_type": "code",
   "execution_count": null,
   "id": "e20ed794",
   "metadata": {},
   "outputs": [
    {
     "name": "stderr",
     "output_type": "stream",
     "text": [
      "/var/folders/dq/3pr3ftc95j1bhqw854dc54m00000gn/T/ipykernel_61566/2816426628.py:2: SettingWithCopyWarning: \n",
      "A value is trying to be set on a copy of a slice from a DataFrame.\n",
      "Try using .loc[row_indexer,col_indexer] = value instead\n",
      "\n",
      "See the caveats in the documentation: https://pandas.pydata.org/pandas-docs/stable/user_guide/indexing.html#returning-a-view-versus-a-copy\n",
      "  preds['Y1'] = train_data['Y1'].mean()\n",
      "/var/folders/dq/3pr3ftc95j1bhqw854dc54m00000gn/T/ipykernel_61566/2816426628.py:3: SettingWithCopyWarning: \n",
      "A value is trying to be set on a copy of a slice from a DataFrame.\n",
      "Try using .loc[row_indexer,col_indexer] = value instead\n",
      "\n",
      "See the caveats in the documentation: https://pandas.pydata.org/pandas-docs/stable/user_guide/indexing.html#returning-a-view-versus-a-copy\n",
      "  preds['Y2'] = train_data['Y2'].mean()\n"
     ]
    },
    {
     "data": {
      "text/html": [
       "<div>\n",
       "<style scoped>\n",
       "    .dataframe tbody tr th:only-of-type {\n",
       "        vertical-align: middle;\n",
       "    }\n",
       "\n",
       "    .dataframe tbody tr th {\n",
       "        vertical-align: top;\n",
       "    }\n",
       "\n",
       "    .dataframe thead th {\n",
       "        text-align: right;\n",
       "    }\n",
       "</style>\n",
       "<table border=\"1\" class=\"dataframe\">\n",
       "  <thead>\n",
       "    <tr style=\"text-align: right;\">\n",
       "      <th></th>\n",
       "      <th>id</th>\n",
       "      <th>Y1</th>\n",
       "      <th>Y2</th>\n",
       "    </tr>\n",
       "  </thead>\n",
       "  <tbody>\n",
       "    <tr>\n",
       "      <th>0</th>\n",
       "      <td>1</td>\n",
       "      <td>-0.002807</td>\n",
       "      <td>-0.061172</td>\n",
       "    </tr>\n",
       "    <tr>\n",
       "      <th>1</th>\n",
       "      <td>2</td>\n",
       "      <td>-0.002807</td>\n",
       "      <td>-0.061172</td>\n",
       "    </tr>\n",
       "    <tr>\n",
       "      <th>2</th>\n",
       "      <td>3</td>\n",
       "      <td>-0.002807</td>\n",
       "      <td>-0.061172</td>\n",
       "    </tr>\n",
       "    <tr>\n",
       "      <th>3</th>\n",
       "      <td>4</td>\n",
       "      <td>-0.002807</td>\n",
       "      <td>-0.061172</td>\n",
       "    </tr>\n",
       "    <tr>\n",
       "      <th>4</th>\n",
       "      <td>5</td>\n",
       "      <td>-0.002807</td>\n",
       "      <td>-0.061172</td>\n",
       "    </tr>\n",
       "    <tr>\n",
       "      <th>...</th>\n",
       "      <td>...</td>\n",
       "      <td>...</td>\n",
       "      <td>...</td>\n",
       "    </tr>\n",
       "    <tr>\n",
       "      <th>15991</th>\n",
       "      <td>15992</td>\n",
       "      <td>-0.002807</td>\n",
       "      <td>-0.061172</td>\n",
       "    </tr>\n",
       "    <tr>\n",
       "      <th>15992</th>\n",
       "      <td>15993</td>\n",
       "      <td>-0.002807</td>\n",
       "      <td>-0.061172</td>\n",
       "    </tr>\n",
       "    <tr>\n",
       "      <th>15993</th>\n",
       "      <td>15994</td>\n",
       "      <td>-0.002807</td>\n",
       "      <td>-0.061172</td>\n",
       "    </tr>\n",
       "    <tr>\n",
       "      <th>15994</th>\n",
       "      <td>15995</td>\n",
       "      <td>-0.002807</td>\n",
       "      <td>-0.061172</td>\n",
       "    </tr>\n",
       "    <tr>\n",
       "      <th>15995</th>\n",
       "      <td>15996</td>\n",
       "      <td>-0.002807</td>\n",
       "      <td>-0.061172</td>\n",
       "    </tr>\n",
       "  </tbody>\n",
       "</table>\n",
       "<p>15996 rows × 3 columns</p>\n",
       "</div>"
      ],
      "text/plain": [
       "          id        Y1        Y2\n",
       "0          1 -0.002807 -0.061172\n",
       "1          2 -0.002807 -0.061172\n",
       "2          3 -0.002807 -0.061172\n",
       "3          4 -0.002807 -0.061172\n",
       "4          5 -0.002807 -0.061172\n",
       "...      ...       ...       ...\n",
       "15991  15992 -0.002807 -0.061172\n",
       "15992  15993 -0.002807 -0.061172\n",
       "15993  15994 -0.002807 -0.061172\n",
       "15994  15995 -0.002807 -0.061172\n",
       "15995  15996 -0.002807 -0.061172\n",
       "\n",
       "[15996 rows x 3 columns]"
      ]
     },
     "execution_count": 5,
     "metadata": {},
     "output_type": "execute_result"
    }
   ],
   "source": [
    "preds = test_data[['id']]\n",
    "preds['Y1'] = train_data['Y1'].mean()\n",
    "preds['Y2'] = train_data['Y2'].mean()\n",
    "preds"
   ]
  },
  {
   "cell_type": "code",
   "execution_count": 6,
   "id": "0d072d58",
   "metadata": {},
   "outputs": [],
   "source": [
    "# save preds to csv\n",
    "preds.to_csv('preds.csv', index=False)"
   ]
  },
  {
   "cell_type": "markdown",
   "id": "3dc988b0",
   "metadata": {},
   "source": [
    "You should now be able to submit preds.csv to [https://quantchallenge.org/dashboard/data/upload-predictions](https://quantchallenge.org/dashboard/data/upload-predictions)! Note that you should receive a public $R^2$ score of $-0.042456$ with this set of predictions. You should try to get the highest possible $R^2$ score over the course of these next few days. Be careful of overfitting to the public score, which is only calculated on a subset of the test data—the final score that counts is the private $R^2$ score!"
   ]
  }
 ],
 "metadata": {
  "kernelspec": {
   "display_name": "venv",
   "language": "python",
   "name": "python3"
  },
  "language_info": {
   "codemirror_mode": {
    "name": "ipython",
    "version": 3
   },
   "file_extension": ".py",
   "mimetype": "text/x-python",
   "name": "python",
   "nbconvert_exporter": "python",
   "pygments_lexer": "ipython3",
   "version": "3.13.7"
  }
 },
 "nbformat": 4,
 "nbformat_minor": 5
}
